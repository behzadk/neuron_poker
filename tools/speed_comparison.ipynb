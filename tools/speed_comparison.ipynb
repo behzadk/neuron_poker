{
 "cells": [
  {
   "cell_type": "code",
   "execution_count": 6,
   "metadata": {
    "pycharm": {
     "is_executing": false
    }
   },
   "outputs": [],
   "source": [
    "import time\n",
    "from tools import montecarlo_python"
   ]
  },
  {
   "cell_type": "code",
   "execution_count": 7,
   "metadata": {
    "pycharm": {
     "is_executing": false,
     "name": "#%%\n"
    }
   },
   "outputs": [],
   "source": [
    "my_cards = [['3H', '3S']]\n",
    "cards_on_table = ['8S', '4S', 'QH', '8C', '4H']\n",
    "expected_results = 40.2\n",
    "players = 2\n",
    "start_time = time.time() + 1e9\n",
    "runs = 10000"
   ]
  },
  {
   "cell_type": "code",
   "execution_count": 8,
   "metadata": {
    "pycharm": {
     "is_executing": false,
     "name": "#%%\n"
    }
   },
   "outputs": [
    {
     "name": "stdout",
     "output_type": "stream",
     "text": [
      "599 ms ± 4.99 ms per loop (mean ± std. dev. of 7 runs, 1 loop each)\n"
     ]
    }
   ],
   "source": [
    "python_simulator = montecarlo_python.MonteCarlo()\n",
    "\n",
    "%timeit python_simulator.run_montecarlo(my_cards, cards_on_table, players, 1, maxRuns=runs, timeout=start_time, ghost_cards='', opponent_range=1)\n"
   ]
  },
  {
   "cell_type": "code",
   "execution_count": 9,
   "metadata": {},
   "outputs": [
    {
     "data": {
      "text/plain": [
       "'/home/behzad/Documents/poker_engine/venv_36/bin/python'"
      ]
     },
     "execution_count": 9,
     "metadata": {},
     "output_type": "execute_result"
    }
   ],
   "source": [
    "import sys\n",
    "sys.executable"
   ]
  },
  {
   "cell_type": "code",
   "execution_count": 13,
   "metadata": {},
   "outputs": [
    {
     "name": "stdout",
     "output_type": "stream",
     "text": [
      "/home/behzad/Documents/poker_engine/venv_36/lib/python3.6/site-packages/neuron_poker-1.0.0-py3.6.egg/tools/nn_equity/__init__.py\n",
      "['__builtins__', '__cached__', '__doc__', '__file__', '__loader__', '__name__', '__package__', '__path__', '__spec__']\n"
     ]
    },
    {
     "ename": "AttributeError",
     "evalue": "module 'tools.nn_equity' has no attribute 'PredictEquity'",
     "output_type": "error",
     "traceback": [
      "\u001b[0;31m---------------------------------------------------------------------------\u001b[0m",
      "\u001b[0;31mAttributeError\u001b[0m                            Traceback (most recent call last)",
      "\u001b[0;32m<ipython-input-13-28dadd99cb01>\u001b[0m in \u001b[0;36m<module>\u001b[0;34m\u001b[0m\n\u001b[1;32m      6\u001b[0m \u001b[0mprint\u001b[0m\u001b[0;34m(\u001b[0m\u001b[0mdir\u001b[0m\u001b[0;34m(\u001b[0m\u001b[0mnn_equity\u001b[0m\u001b[0;34m)\u001b[0m\u001b[0;34m)\u001b[0m\u001b[0;34m\u001b[0m\u001b[0;34m\u001b[0m\u001b[0m\n\u001b[1;32m      7\u001b[0m \u001b[0mload_model\u001b[0m \u001b[0;34m=\u001b[0m \u001b[0;34m\"equity_optuna_2_1\"\u001b[0m\u001b[0;34m\u001b[0m\u001b[0;34m\u001b[0m\u001b[0m\n\u001b[0;32m----> 8\u001b[0;31m \u001b[0mequity_pred_model\u001b[0m \u001b[0;34m=\u001b[0m \u001b[0mnn_equity\u001b[0m\u001b[0;34m.\u001b[0m\u001b[0mPredictEquity\u001b[0m\u001b[0;34m(\u001b[0m\u001b[0mload_model_name\u001b[0m\u001b[0;34m=\u001b[0m\u001b[0mload_model\u001b[0m\u001b[0;34m,\u001b[0m \u001b[0mload_model_dir\u001b[0m\u001b[0;34m=\u001b[0m\u001b[0;34m'./nn_equity_model/'\u001b[0m\u001b[0;34m)\u001b[0m\u001b[0;34m\u001b[0m\u001b[0;34m\u001b[0m\u001b[0m\n\u001b[0m",
      "\u001b[0;31mAttributeError\u001b[0m: module 'tools.nn_equity' has no attribute 'PredictEquity'"
     ]
    }
   ],
   "source": [
    "import tools.nn_equity as nn_equity\n",
    "import importlib\n",
    "importlib.reload(nn_equity)\n",
    "\n",
    "print(nn_equity.__file__)\n",
    "print(dir(nn_equity))\n",
    "load_model = \"equity_optuna_2_1\"\n",
    "equity_pred_model = nn_equity.PredictEquity(load_model_name=load_model, load_model_dir='./nn_equity_model/')\n"
   ]
  },
  {
   "cell_type": "code",
   "execution_count": null,
   "metadata": {
    "pycharm": {
     "is_executing": false,
     "name": "#%%\n"
    }
   },
   "outputs": [],
   "source": [
    "import cppimport\n",
    "cpp_calc = cppimport.imp(\"montecarlo_cpp.pymontecarlo\")"
   ]
  },
  {
   "cell_type": "code",
   "execution_count": null,
   "metadata": {
    "pycharm": {
     "is_executing": false,
     "name": "#%%\n"
    }
   },
   "outputs": [],
   "source": [
    "%timeit cpp_calc.montecarlo(set(my_cards[0]), set(cards_on_table), players, runs)"
   ]
  },
  {
   "cell_type": "code",
   "execution_count": null,
   "metadata": {
    "pycharm": {
     "is_executing": false,
     "name": "#%%\n"
    }
   },
   "outputs": [],
   "source": [
    "# Cython version\n",
    "%load_ext Cython"
   ]
  },
  {
   "cell_type": "code",
   "execution_count": null,
   "metadata": {
    "pycharm": {
     "is_executing": false,
     "name": "#%%cython\n"
    }
   },
   "outputs": [],
   "source": [
    "from tools import montecarlo_cython\n",
    "\n",
    "cython_simulator = montecarlo_cython.MonteCarlo()"
   ]
  },
  {
   "cell_type": "code",
   "execution_count": null,
   "metadata": {
    "pycharm": {
     "is_executing": false,
     "name": "#%%\n"
    }
   },
   "outputs": [],
   "source": [
    "%timeit cython_simulator.run_montecarlo(my_cards, cards_on_table, players, 1, maxRuns=runs, timeout=start_time, ghost_cards='', opponent_range=1)\n",
    "\n"
   ]
  },
  {
   "cell_type": "code",
   "execution_count": null,
   "metadata": {
    "pycharm": {
     "name": "#%%\n"
    }
   },
   "outputs": [],
   "source": [
    "\n"
   ]
  }
 ],
 "metadata": {
  "kernelspec": {
   "display_name": "Python 3",
   "language": "python",
   "name": "python3"
  },
  "language_info": {
   "codemirror_mode": {
    "name": "ipython",
    "version": 3
   },
   "file_extension": ".py",
   "mimetype": "text/x-python",
   "name": "python",
   "nbconvert_exporter": "python",
   "pygments_lexer": "ipython3",
   "version": "3.6.11"
  },
  "pycharm": {
   "stem_cell": {
    "cell_type": "raw",
    "metadata": {
     "collapsed": false
    },
    "source": []
   }
  }
 },
 "nbformat": 4,
 "nbformat_minor": 1
}
